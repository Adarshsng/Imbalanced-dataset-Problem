{
 "cells": [
  {
   "cell_type": "code",
   "execution_count": 1,
   "metadata": {},
   "outputs": [],
   "source": [
    "import pandas as pd\n",
    "import numpy as np\n",
    "import warnings\n",
    "warnings.filterwarnings('ignore')\n",
    "\n",
    "import seaborn as sns\n",
    "sns.set(color_codes = True)\n",
    "pd.set_option('display.max_columns', 50)\n",
    "\n",
    "import matplotlib.pyplot as plt\n",
    "#matplotlib inline\n",
    "\n",
    "import pylab \n",
    "import scipy.stats as stats\n",
    "\n",
    "from sklearn.metrics import accuracy_score,confusion_matrix,recall_score\n",
    "from sklearn.metrics import classification_report "
   ]
  },
  {
   "cell_type": "code",
   "execution_count": 3,
   "metadata": {},
   "outputs": [],
   "source": [
    "data=pd.read_csv(r\"LOL.csv\",error_bad_lines=False,parse_dates=True,warn_bad_lines=False)"
   ]
  },
  {
   "cell_type": "code",
   "execution_count": 4,
   "metadata": {},
   "outputs": [
    {
     "data": {
      "text/plain": [
       "(193482, 150)"
      ]
     },
     "execution_count": 4,
     "metadata": {},
     "output_type": "execute_result"
    }
   ],
   "source": [
    "data.shape"
   ]
  },
  {
   "cell_type": "code",
   "execution_count": 5,
   "metadata": {},
   "outputs": [],
   "source": [
    "d_copy = data.copy(True)\n",
    "data.replace(['\\\\N','NaT'],np.nan,inplace=True)"
   ]
  },
  {
   "cell_type": "code",
   "execution_count": 6,
   "metadata": {},
   "outputs": [],
   "source": [
    "data['is_valid'] = np.where(((data['fk_lu_invalid_deduction_identifier_id'].isnull() == False)  | (data['correspondence_flag'] == 1)),0,1)"
   ]
  },
  {
   "cell_type": "code",
   "execution_count": 7,
   "metadata": {},
   "outputs": [],
   "source": [
    "outcols=['fk_lu_invalid_deduction_identifier_id','correspondence_flag','fk_action_code_id','fk_resolution_type_id',\"is_valid\",\"vendor_id\"]"
   ]
  },
  {
   "cell_type": "code",
   "execution_count": 8,
   "metadata": {},
   "outputs": [],
   "source": [
    "st_cols=[]\n",
    "for i in data.columns:\n",
    "    if(data[i].nunique())==1:\n",
    "        st_cols.append(i)\n",
    "result = [x for x in st_cols if x not in outcols]\n",
    "data.drop(result,axis=1,inplace=True)"
   ]
  },
  {
   "cell_type": "code",
   "execution_count": 9,
   "metadata": {},
   "outputs": [],
   "source": [
    "a = data.isnull().sum()\n",
    "a = a.drop(outcols)\n",
    "b = a[a>(0.8*data.shape[0])].index\n",
    "data.drop(b,axis=1,inplace=True)"
   ]
  },
  {
   "cell_type": "code",
   "execution_count": 10,
   "metadata": {},
   "outputs": [
    {
     "data": {
      "text/plain": [
       "1    182722\n",
       "0     10760\n",
       "Name: is_valid, dtype: int64"
      ]
     },
     "execution_count": 10,
     "metadata": {},
     "output_type": "execute_result"
    }
   ],
   "source": [
    "data['is_valid'].value_counts()"
   ]
  },
  {
   "cell_type": "code",
   "execution_count": 11,
   "metadata": {},
   "outputs": [
    {
     "data": {
      "text/plain": [
       "193470"
      ]
     },
     "execution_count": 11,
     "metadata": {},
     "output_type": "execute_result"
    }
   ],
   "source": [
    "data['pk_deduction_id'].nunique()"
   ]
  },
  {
   "cell_type": "code",
   "execution_count": 12,
   "metadata": {},
   "outputs": [],
   "source": [
    "data['pk_deduction_id']= pd.to_numeric(data['pk_deduction_id'], errors='coerce')\n",
    "data['fk_account_id']= pd.to_numeric(data['fk_account_id'], errors='coerce')\n",
    "data['fk_customer_map_id']= pd.to_numeric(data['fk_customer_map_id'], errors='coerce')\n",
    "data['fk_reason_code_map_id']= pd.to_numeric(data['fk_reason_code_map_id'], errors='coerce')\n",
    "data['fk_action_code_id']= pd.to_numeric(data['fk_action_code_id'], errors='coerce')\n",
    "data['fk_document_type_map_id']= pd.to_numeric(data['fk_document_type_map_id'], errors='coerce')\n",
    "data['fk_deduction_type_id']= pd.to_numeric(data['fk_deduction_type_id'], errors='coerce')\n",
    "data['fk_resolution_type_id']= pd.to_numeric(data['fk_resolution_type_id'], errors='coerce')"
   ]
  },
  {
   "cell_type": "code",
   "execution_count": 13,
   "metadata": {},
   "outputs": [
    {
     "data": {
      "text/plain": [
       "(193464, 43)"
      ]
     },
     "execution_count": 13,
     "metadata": {},
     "output_type": "execute_result"
    }
   ],
   "source": [
    "data['pk_deduction_id'].isnull().sum()\n",
    "data = data[pd.notnull(data['pk_deduction_id'])]\n",
    "data.shape"
   ]
  },
  {
   "cell_type": "code",
   "execution_count": 14,
   "metadata": {},
   "outputs": [
    {
     "data": {
      "text/plain": [
       "(193445, 43)"
      ]
     },
     "execution_count": 14,
     "metadata": {},
     "output_type": "execute_result"
    }
   ],
   "source": [
    "data = data[pd.notnull(data['fk_customer_map_id'])]\n",
    "data.shape"
   ]
  },
  {
   "cell_type": "code",
   "execution_count": 15,
   "metadata": {},
   "outputs": [
    {
     "data": {
      "text/plain": [
       "(193445, 43)"
      ]
     },
     "execution_count": 15,
     "metadata": {},
     "output_type": "execute_result"
    }
   ],
   "source": [
    "data = data[pd.notnull(data['original_dispute_amount']>0)]\n",
    "data.shape"
   ]
  },
  {
   "cell_type": "code",
   "execution_count": 16,
   "metadata": {},
   "outputs": [],
   "source": [
    "data['deduction_created_date']=pd.to_datetime(data['deduction_created_date'])\n",
    "data['deduction_closed_date']=pd.to_datetime(data['deduction_closed_date'])"
   ]
  },
  {
   "cell_type": "code",
   "execution_count": 17,
   "metadata": {},
   "outputs": [],
   "source": [
    "data.sort_values(by='deduction_created_date',inplace=True)"
   ]
  },
  {
   "cell_type": "code",
   "execution_count": 18,
   "metadata": {},
   "outputs": [
    {
     "data": {
      "text/html": [
       "<div>\n",
       "<style scoped>\n",
       "    .dataframe tbody tr th:only-of-type {\n",
       "        vertical-align: middle;\n",
       "    }\n",
       "\n",
       "    .dataframe tbody tr th {\n",
       "        vertical-align: top;\n",
       "    }\n",
       "\n",
       "    .dataframe thead th {\n",
       "        text-align: right;\n",
       "    }\n",
       "</style>\n",
       "<table border=\"1\" class=\"dataframe\">\n",
       "  <thead>\n",
       "    <tr style=\"text-align: right;\">\n",
       "      <th></th>\n",
       "      <th>pk_deduction_id</th>\n",
       "      <th>fk_account_id</th>\n",
       "      <th>fk_customer_map_id</th>\n",
       "      <th>fk_reason_category_id</th>\n",
       "      <th>fk_reason_code_map_id</th>\n",
       "      <th>fk_action_code_id</th>\n",
       "      <th>fk_document_type_map_id</th>\n",
       "      <th>company_code</th>\n",
       "      <th>ext_reference</th>\n",
       "      <th>current_dispute_amount</th>\n",
       "      <th>original_dispute_amount</th>\n",
       "      <th>original_dispute_number</th>\n",
       "      <th>reference_number2</th>\n",
       "      <th>reference_number4</th>\n",
       "      <th>reference_number10</th>\n",
       "      <th>deduction_closed_date</th>\n",
       "      <th>deduction_created_date</th>\n",
       "      <th>vendor_id</th>\n",
       "      <th>fk_deduction_type_id</th>\n",
       "      <th>accounting_doc_number</th>\n",
       "      <th>payer</th>\n",
       "      <th>check_number</th>\n",
       "      <th>posting_date</th>\n",
       "      <th>merge_status</th>\n",
       "      <th>invoice_link_status</th>\n",
       "      <th>correspondence_flag</th>\n",
       "      <th>comments</th>\n",
       "      <th>ar_reason_code</th>\n",
       "      <th>check_date</th>\n",
       "      <th>cal_credited_amount</th>\n",
       "      <th>cal_write_off_amount</th>\n",
       "      <th>cal_repay_amount</th>\n",
       "      <th>cal_promotion_settlement_amount</th>\n",
       "      <th>cal_reinstate_amount</th>\n",
       "      <th>cal_unresolved_amount</th>\n",
       "      <th>check_amount</th>\n",
       "      <th>fund_number</th>\n",
       "      <th>fk_lu_invalid_deduction_identifier_id</th>\n",
       "      <th>reference_number12</th>\n",
       "      <th>reference_number14</th>\n",
       "      <th>reference_number15</th>\n",
       "      <th>fk_resolution_type_id</th>\n",
       "      <th>is_valid</th>\n",
       "    </tr>\n",
       "  </thead>\n",
       "  <tbody>\n",
       "    <tr>\n",
       "      <th>193409</th>\n",
       "      <td>29811025.0</td>\n",
       "      <td>263.0</td>\n",
       "      <td>95104170.0</td>\n",
       "      <td>4</td>\n",
       "      <td>1839.0</td>\n",
       "      <td>543.0</td>\n",
       "      <td>-1.0</td>\n",
       "      <td>1</td>\n",
       "      <td>157635-BB</td>\n",
       "      <td>0</td>\n",
       "      <td>1.50</td>\n",
       "      <td>1708699</td>\n",
       "      <td>FSV</td>\n",
       "      <td>64407000034500</td>\n",
       "      <td>2194179</td>\n",
       "      <td>2019-01-18 20:38:09</td>\n",
       "      <td>2019-01-18 00:00:00</td>\n",
       "      <td>NaN</td>\n",
       "      <td>0.0</td>\n",
       "      <td>1708699</td>\n",
       "      <td>1474427</td>\n",
       "      <td>739430</td>\n",
       "      <td>2019-01-18</td>\n",
       "      <td>0</td>\n",
       "      <td>0</td>\n",
       "      <td>0</td>\n",
       "      <td>NaN</td>\n",
       "      <td>ZM</td>\n",
       "      <td>2019-01-17</td>\n",
       "      <td>0</td>\n",
       "      <td>1.5</td>\n",
       "      <td>0</td>\n",
       "      <td>0</td>\n",
       "      <td>0</td>\n",
       "      <td>0</td>\n",
       "      <td>23736.6</td>\n",
       "      <td>NaN</td>\n",
       "      <td>NaN</td>\n",
       "      <td>JDE</td>\n",
       "      <td>1000 - TOTAL FOODSERVICE</td>\n",
       "      <td>4055 - WAYPOINT CENTRAL STREET</td>\n",
       "      <td>NaN</td>\n",
       "      <td>1</td>\n",
       "    </tr>\n",
       "    <tr>\n",
       "      <th>193481</th>\n",
       "      <td>29811154.0</td>\n",
       "      <td>263.0</td>\n",
       "      <td>97537202.0</td>\n",
       "      <td>174</td>\n",
       "      <td>1842.0</td>\n",
       "      <td>543.0</td>\n",
       "      <td>-1.0</td>\n",
       "      <td>1</td>\n",
       "      <td>3781421</td>\n",
       "      <td>0</td>\n",
       "      <td>93.73</td>\n",
       "      <td>1708565</td>\n",
       "      <td>MIC</td>\n",
       "      <td>77105000042634</td>\n",
       "      <td>2597867</td>\n",
       "      <td>2019-01-18 20:39:16</td>\n",
       "      <td>2019-01-18 00:00:00</td>\n",
       "      <td>NaN</td>\n",
       "      <td>0.0</td>\n",
       "      <td>1708565</td>\n",
       "      <td>2586666</td>\n",
       "      <td>2586666 011819</td>\n",
       "      <td>2019-01-18</td>\n",
       "      <td>0</td>\n",
       "      <td>0</td>\n",
       "      <td>0</td>\n",
       "      <td>NaN</td>\n",
       "      <td>ZS</td>\n",
       "      <td>2019-01-18</td>\n",
       "      <td>0</td>\n",
       "      <td>93.73</td>\n",
       "      <td>0</td>\n",
       "      <td>0</td>\n",
       "      <td>0</td>\n",
       "      <td>0</td>\n",
       "      <td>0</td>\n",
       "      <td>NaN</td>\n",
       "      <td>NaN</td>\n",
       "      <td>JDE</td>\n",
       "      <td>1002 - TOTAL RETAIL FOODS</td>\n",
       "      <td>4038 - AMAZON_E</td>\n",
       "      <td>NaN</td>\n",
       "      <td>1</td>\n",
       "    </tr>\n",
       "    <tr>\n",
       "      <th>193367</th>\n",
       "      <td>29810948.0</td>\n",
       "      <td>263.0</td>\n",
       "      <td>95101302.0</td>\n",
       "      <td>4</td>\n",
       "      <td>1854.0</td>\n",
       "      <td>831.0</td>\n",
       "      <td>-1.0</td>\n",
       "      <td>1</td>\n",
       "      <td>SPDN010200</td>\n",
       "      <td>0</td>\n",
       "      <td>18.00</td>\n",
       "      <td>1696491</td>\n",
       "      <td>RET</td>\n",
       "      <td>53000000073491</td>\n",
       "      <td>1497434</td>\n",
       "      <td>2019-01-18 09:41:15</td>\n",
       "      <td>2019-01-18 09:39:42</td>\n",
       "      <td>NaN</td>\n",
       "      <td>0.0</td>\n",
       "      <td>1696491</td>\n",
       "      <td>1998474</td>\n",
       "      <td>1998474 112018</td>\n",
       "      <td>2018-11-20</td>\n",
       "      <td>0</td>\n",
       "      <td>0</td>\n",
       "      <td>0</td>\n",
       "      <td>emailed Jim</td>\n",
       "      <td>ZM</td>\n",
       "      <td>2018-11-20</td>\n",
       "      <td>0</td>\n",
       "      <td>18</td>\n",
       "      <td>0</td>\n",
       "      <td>0</td>\n",
       "      <td>0</td>\n",
       "      <td>0</td>\n",
       "      <td>9557.21</td>\n",
       "      <td>NaN</td>\n",
       "      <td>NaN</td>\n",
       "      <td>JDE</td>\n",
       "      <td>1002 - TOTAL RETAIL FOODS</td>\n",
       "      <td>4064 - WEST AM</td>\n",
       "      <td>NaN</td>\n",
       "      <td>1</td>\n",
       "    </tr>\n",
       "  </tbody>\n",
       "</table>\n",
       "</div>"
      ],
      "text/plain": [
       "        pk_deduction_id  fk_account_id  fk_customer_map_id  \\\n",
       "193409       29811025.0          263.0          95104170.0   \n",
       "193481       29811154.0          263.0          97537202.0   \n",
       "193367       29810948.0          263.0          95101302.0   \n",
       "\n",
       "       fk_reason_category_id  fk_reason_code_map_id  fk_action_code_id  \\\n",
       "193409                     4                 1839.0              543.0   \n",
       "193481                   174                 1842.0              543.0   \n",
       "193367                     4                 1854.0              831.0   \n",
       "\n",
       "        fk_document_type_map_id company_code ext_reference  \\\n",
       "193409                     -1.0            1     157635-BB   \n",
       "193481                     -1.0            1       3781421   \n",
       "193367                     -1.0            1    SPDN010200   \n",
       "\n",
       "       current_dispute_amount  original_dispute_amount  \\\n",
       "193409                      0                     1.50   \n",
       "193481                      0                    93.73   \n",
       "193367                      0                    18.00   \n",
       "\n",
       "       original_dispute_number reference_number2 reference_number4  \\\n",
       "193409                 1708699               FSV    64407000034500   \n",
       "193481                 1708565               MIC    77105000042634   \n",
       "193367                 1696491               RET    53000000073491   \n",
       "\n",
       "       reference_number10 deduction_closed_date deduction_created_date  \\\n",
       "193409            2194179   2019-01-18 20:38:09    2019-01-18 00:00:00   \n",
       "193481            2597867   2019-01-18 20:39:16    2019-01-18 00:00:00   \n",
       "193367            1497434   2019-01-18 09:41:15    2019-01-18 09:39:42   \n",
       "\n",
       "       vendor_id  fk_deduction_type_id accounting_doc_number    payer  \\\n",
       "193409       NaN                   0.0               1708699  1474427   \n",
       "193481       NaN                   0.0               1708565  2586666   \n",
       "193367       NaN                   0.0               1696491  1998474   \n",
       "\n",
       "          check_number posting_date merge_status invoice_link_status  \\\n",
       "193409          739430   2019-01-18            0                   0   \n",
       "193481  2586666 011819   2019-01-18            0                   0   \n",
       "193367  1998474 112018   2018-11-20            0                   0   \n",
       "\n",
       "       correspondence_flag     comments ar_reason_code  check_date  \\\n",
       "193409                   0          NaN             ZM  2019-01-17   \n",
       "193481                   0          NaN             ZS  2019-01-18   \n",
       "193367                   0  emailed Jim             ZM  2018-11-20   \n",
       "\n",
       "       cal_credited_amount cal_write_off_amount cal_repay_amount  \\\n",
       "193409                   0                  1.5                0   \n",
       "193481                   0                93.73                0   \n",
       "193367                   0                   18                0   \n",
       "\n",
       "       cal_promotion_settlement_amount cal_reinstate_amount  \\\n",
       "193409                               0                    0   \n",
       "193481                               0                    0   \n",
       "193367                               0                    0   \n",
       "\n",
       "       cal_unresolved_amount check_amount fund_number  \\\n",
       "193409                     0      23736.6         NaN   \n",
       "193481                     0            0         NaN   \n",
       "193367                     0      9557.21         NaN   \n",
       "\n",
       "       fk_lu_invalid_deduction_identifier_id reference_number12  \\\n",
       "193409                                   NaN                JDE   \n",
       "193481                                   NaN                JDE   \n",
       "193367                                   NaN                JDE   \n",
       "\n",
       "               reference_number14              reference_number15  \\\n",
       "193409   1000 - TOTAL FOODSERVICE  4055 - WAYPOINT CENTRAL STREET   \n",
       "193481  1002 - TOTAL RETAIL FOODS                 4038 - AMAZON_E   \n",
       "193367  1002 - TOTAL RETAIL FOODS                  4064 - WEST AM   \n",
       "\n",
       "        fk_resolution_type_id  is_valid  \n",
       "193409                    NaN         1  \n",
       "193481                    NaN         1  \n",
       "193367                    NaN         1  "
      ]
     },
     "execution_count": 18,
     "metadata": {},
     "output_type": "execute_result"
    }
   ],
   "source": [
    "data.tail(3)"
   ]
  },
  {
   "cell_type": "code",
   "execution_count": 19,
   "metadata": {},
   "outputs": [],
   "source": [
    "test_set=data[data['deduction_created_date']>='2018-9-18']\n",
    "train_val_set=data[data['deduction_created_date']<'2018-9-18']"
   ]
  },
  {
   "cell_type": "code",
   "execution_count": 20,
   "metadata": {},
   "outputs": [],
   "source": [
    "val_set=train_val_set[train_val_set['deduction_created_date']>='2018-06-18']\n",
    "train_set=train_val_set[train_val_set['deduction_created_date']<'2018-06-18']"
   ]
  },
  {
   "cell_type": "code",
   "execution_count": 21,
   "metadata": {},
   "outputs": [
    {
     "name": "stdout",
     "output_type": "stream",
     "text": [
      "Size of validation set is: (17524, 43)\n",
      "Size of Training set is: (153866, 43)\n",
      "Size of Test Set is: (22055, 43)\n"
     ]
    }
   ],
   "source": [
    "print(\"Size of validation set is:\",val_set.shape )\n",
    "print(\"Size of Training set is:\",train_set.shape )\n",
    "print(\"Size of Test Set is:\",test_set.shape)"
   ]
  },
  {
   "cell_type": "code",
   "execution_count": 22,
   "metadata": {},
   "outputs": [
    {
     "data": {
      "text/plain": [
       "(193445, 43)"
      ]
     },
     "execution_count": 22,
     "metadata": {},
     "output_type": "execute_result"
    }
   ],
   "source": [
    "data_copy=data.copy()\n",
    "data_copy.shape"
   ]
  },
  {
   "cell_type": "code",
   "execution_count": 23,
   "metadata": {},
   "outputs": [],
   "source": [
    "train_set['original_dispute_amount']= pd.to_numeric(train_set['original_dispute_amount'], errors='coerce')\n",
    "val_set['original_dispute_amount']= pd.to_numeric(val_set['original_dispute_amount'], errors='coerce')\n",
    "test_set['original_dispute_amount']= pd.to_numeric(test_set['original_dispute_amount'], errors='coerce')"
   ]
  },
  {
   "cell_type": "code",
   "execution_count": 24,
   "metadata": {},
   "outputs": [],
   "source": [
    "train_set['original_dispute_amount_log']=np.log(train_set[\"original_dispute_amount\"])\n",
    "val_set['original_dispute_amount_log']=np.log(val_set[\"original_dispute_amount\"])\n",
    "test_set['original_dispute_amount_log']=np.log(test_set[\"original_dispute_amount\"])"
   ]
  },
  {
   "cell_type": "code",
   "execution_count": 25,
   "metadata": {},
   "outputs": [
    {
     "data": {
      "text/plain": [
       "632"
      ]
     },
     "execution_count": 25,
     "metadata": {},
     "output_type": "execute_result"
    }
   ],
   "source": [
    "train_set['fk_customer_map_id'].nunique()"
   ]
  },
  {
   "cell_type": "markdown",
   "metadata": {},
   "source": [
    "### Feature"
   ]
  },
  {
   "cell_type": "markdown",
   "metadata": {},
   "source": [
    "#### FK_CUSTOMER_MAP_ID_HISTORY"
   ]
  },
  {
   "cell_type": "code",
   "execution_count": 26,
   "metadata": {},
   "outputs": [],
   "source": [
    "valid_deduction=train_set.groupby('fk_customer_map_id')['is_valid'].sum()\n",
    "total_deduction=train_set.groupby('fk_customer_map_id')['is_valid'].count()\n",
    "invalid_deduction=total_deduction-valid_deduction"
   ]
  },
  {
   "cell_type": "code",
   "execution_count": 27,
   "metadata": {},
   "outputs": [],
   "source": [
    "train_set['fk_customer_map_id_hist']=train_set['fk_customer_map_id'].map(invalid_deduction/total_deduction)\n",
    "val_set['fk_customer_map_id_hist']=val_set['fk_customer_map_id'].map(invalid_deduction/total_deduction)\n",
    "test_set['fk_customer_map_id_hist']=test_set['fk_customer_map_id'].map(invalid_deduction/total_deduction)"
   ]
  },
  {
   "cell_type": "code",
   "execution_count": 28,
   "metadata": {},
   "outputs": [],
   "source": [
    "train_set['fk_customer_map_id_hist'].fillna(train_set['fk_customer_map_id_hist'].mean(),inplace=True)\n",
    "test_set['fk_customer_map_id_hist'].fillna(train_set['fk_customer_map_id_hist'].mean(),inplace=True)\n",
    "val_set['fk_customer_map_id_hist'].fillna(train_set['fk_customer_map_id_hist'].mean(),inplace=True)"
   ]
  },
  {
   "cell_type": "markdown",
   "metadata": {},
   "source": [
    "#### AR REASON CODE HISTORY"
   ]
  },
  {
   "cell_type": "code",
   "execution_count": 29,
   "metadata": {},
   "outputs": [],
   "source": [
    "ar_total=train_set.groupby('ar_reason_code')['is_valid'].count()\n",
    "ar_valid=train_set.groupby('ar_reason_code')['is_valid'].sum()\n",
    "ar_invalid=ar_total-ar_valid"
   ]
  },
  {
   "cell_type": "code",
   "execution_count": 30,
   "metadata": {},
   "outputs": [],
   "source": [
    "train_set['ar_reason_code_hist']=train_set['ar_reason_code'].map(ar_invalid/ar_total)\n",
    "val_set['ar_reason_code_hist']=val_set['ar_reason_code'].map(ar_invalid/ar_total)\n",
    "test_set['ar_reason_code_hist']=test_set['ar_reason_code'].map(ar_invalid/ar_total)"
   ]
  },
  {
   "cell_type": "code",
   "execution_count": 31,
   "metadata": {},
   "outputs": [],
   "source": [
    "train_set['ar_reason_code_hist'].fillna(train_set['ar_reason_code_hist'].mean(),inplace=True)\n",
    "test_set['ar_reason_code_hist'].fillna(train_set['ar_reason_code_hist'].mean(),inplace=True)\n",
    "val_set['ar_reason_code_hist'].fillna(train_set['ar_reason_code_hist'].mean(),inplace=True)"
   ]
  },
  {
   "cell_type": "markdown",
   "metadata": {},
   "source": [
    "#### REFERENCE ID 15 HISTORY"
   ]
  },
  {
   "cell_type": "code",
   "execution_count": 32,
   "metadata": {},
   "outputs": [],
   "source": [
    "train_set['reference_number15'].fillna(\"others\",inplace=True)\n",
    "val_set['reference_number15'].fillna(\"others\",inplace=True)\n",
    "test_set['reference_number15'].fillna(\"others\",inplace=True)"
   ]
  },
  {
   "cell_type": "code",
   "execution_count": 33,
   "metadata": {},
   "outputs": [],
   "source": [
    "total_df=train_set.groupby(['fk_customer_map_id','reference_number15'])['is_valid'].agg(['count']).reset_index()\n",
    "valid_df=train_set.groupby(['fk_customer_map_id','reference_number15'])['is_valid'].agg(['sum']).reset_index()\n",
    "\n",
    "train_set=pd.merge(train_set,total_df,on=['fk_customer_map_id','reference_number15'], how='left')\n",
    "train_set=pd.merge(train_set,valid_df,on=['fk_customer_map_id','reference_number15'], how='left')\n",
    "\n",
    "train_set.rename(columns={'count':'total_deductions_ref','sum':'valid_deductions_ref'},inplace=True)\n",
    "train_set['invalid_deductions_ref']=train_set['total_deductions_ref']-train_set['valid_deductions_ref']\n",
    "\n",
    "val_set=pd.merge(val_set,total_df,on=['fk_customer_map_id','reference_number15'], how='left')\n",
    "val_set=pd.merge(val_set,valid_df,on=['fk_customer_map_id','reference_number15'], how='left')\n",
    "val_set.rename(columns={'count':'total_deductions_ref','sum':'valid_deductions_ref'},inplace=True)\n",
    "val_set['invalid_deductions_ref']=val_set['total_deductions_ref']-val_set['valid_deductions_ref']\n",
    "\n",
    "test_set=pd.merge(test_set,total_df,on=['fk_customer_map_id','reference_number15'], how='left')\n",
    "test_set=pd.merge(test_set,valid_df,on=['fk_customer_map_id','reference_number15'], how='left')\n",
    "test_set.rename(columns={'count':'total_deductions_ref','sum':'valid_deductions_ref'},inplace=True)\n",
    "test_set['invalid_deductions_ref']=test_set['total_deductions_ref']-test_set['valid_deductions_ref']"
   ]
  },
  {
   "cell_type": "code",
   "execution_count": 34,
   "metadata": {},
   "outputs": [],
   "source": [
    "train_set['ref_num15_fk_customer_map_id_history']=train_set['invalid_deductions_ref']/train_set['total_deductions_ref']\n",
    "val_set['ref_num15_fk_customer_map_id_history']=val_set['invalid_deductions_ref']/val_set['total_deductions_ref']\n",
    "test_set['ref_num15_fk_customer_map_id_history']=test_set['invalid_deductions_ref']/test_set['total_deductions_ref']\n",
    "\n",
    "train_set['ref_num15_fk_customer_map_id_history'].fillna(train_set['ref_num15_fk_customer_map_id_history'].mean(),inplace=True)\n",
    "val_set['ref_num15_fk_customer_map_id_history'].fillna(val_set['ref_num15_fk_customer_map_id_history'].mean(),inplace=True)\n",
    "test_set['ref_num15_fk_customer_map_id_history'].fillna(test_set['ref_num15_fk_customer_map_id_history'].mean(),inplace=True)"
   ]
  },
  {
   "cell_type": "markdown",
   "metadata": {},
   "source": [
    "### B_VALUE"
   ]
  },
  {
   "cell_type": "code",
   "execution_count": 35,
   "metadata": {},
   "outputs": [],
   "source": [
    "train_set['total_number_deduction']=train_set['fk_customer_map_id'].map(total_deduction)\n",
    "val_set['total_number_deduction']=val_set['fk_customer_map_id'].map(total_deduction)\n",
    "test_set['total_number_deduction']=test_set['fk_customer_map_id'].map(total_deduction)"
   ]
  },
  {
   "cell_type": "code",
   "execution_count": 36,
   "metadata": {},
   "outputs": [],
   "source": [
    "train_set['cust_label']=np.where(train_set['total_number_deduction']>500,1,0) \n",
    "val_set['cust_label']=np.where(val_set['total_number_deduction']>500,1,0) \n",
    "test_set['cust_label']=np.where(test_set['total_number_deduction']>500,1,0)"
   ]
  },
  {
   "cell_type": "code",
   "execution_count": 37,
   "metadata": {},
   "outputs": [],
   "source": [
    "unique_cust_id = train_set['fk_customer_map_id'].unique().tolist()\n",
    "train_set['avg_invalid_ded_amt']=0\n",
    "m=[]\n",
    "\n",
    "for k in unique_cust_id:\n",
    "    temp=pd.DataFrame()\n",
    "    temp=train_set.loc[(train_set['fk_customer_map_id']==k) & (train_set['is_valid']==0), :]\n",
    "    temp = temp.reset_index()\n",
    "    avg=temp['original_dispute_amount'].mean()\n",
    "    m.append(avg)\n",
    "\n",
    "\n",
    "avg_amt=dict(zip(unique_cust_id,m))\n",
    "train_set['avg_invalid_ded_amt']=train_set['fk_customer_map_id'].map(avg_amt)\n",
    "val_set['avg_invalid_ded_amt']=val_set['fk_customer_map_id'].map(avg_amt)\n",
    "test_set['avg_invalid_ded_amt']=test_set['fk_customer_map_id'].map(avg_amt)"
   ]
  },
  {
   "cell_type": "code",
   "execution_count": 38,
   "metadata": {},
   "outputs": [],
   "source": [
    "train_set['avg_invalid_ded_amt'].fillna(train_set['fk_customer_map_id'].mean(),inplace=True)\n",
    "val_set['avg_invalid_ded_amt'].fillna(val_set['fk_customer_map_id'].mean(),inplace=True)\n",
    "test_set['avg_invalid_ded_amt'].fillna(test_set['fk_customer_map_id'].mean(),inplace=True)"
   ]
  },
  {
   "cell_type": "code",
   "execution_count": 39,
   "metadata": {},
   "outputs": [],
   "source": [
    "train_set['b_value']=np.where(train_set['cust_label']==1,train_set['avg_invalid_ded_amt']/train_set['original_dispute_amount'],train_set['original_dispute_amount']/train_set['avg_invalid_ded_amt'])\n",
    "val_set['b_value']=np.where(val_set['cust_label']==1,val_set['avg_invalid_ded_amt']/val_set['original_dispute_amount'],val_set['original_dispute_amount']/val_set['avg_invalid_ded_amt'])\n",
    "test_set['b_value']=np.where(test_set['cust_label']==1,test_set['avg_invalid_ded_amt']/test_set['original_dispute_amount'],test_set['original_dispute_amount']/test_set['avg_invalid_ded_amt'])"
   ]
  },
  {
   "cell_type": "code",
   "execution_count": 40,
   "metadata": {},
   "outputs": [],
   "source": [
    "train_set['b_value']=np.where(train_set['b_value']<1,1,train_set['b_value']) \n",
    "val_set['b_value']=np.where(val_set['b_value']<1,1,val_set['b_value'])\n",
    "test_set['b_value']=np.where(test_set['b_value']<1,1,test_set['b_value'])"
   ]
  },
  {
   "cell_type": "code",
   "execution_count": 41,
   "metadata": {},
   "outputs": [],
   "source": [
    "train_set['b_value']=np.where(train_set['b_value']>50,50,train_set['b_value']) \n",
    "val_set['b_value']=np.where(val_set['b_value']>50,50,val_set['b_value'])\n",
    "test_set['b_value']=np.where(test_set['b_value']>50,50,test_set['b_value'])"
   ]
  },
  {
   "cell_type": "code",
   "execution_count": 42,
   "metadata": {},
   "outputs": [
    {
     "data": {
      "text/plain": [
       "0"
      ]
     },
     "execution_count": 42,
     "metadata": {},
     "output_type": "execute_result"
    }
   ],
   "source": [
    "train_set['avg_invalid_ded_amt'].isnull().sum()"
   ]
  },
  {
   "cell_type": "code",
   "execution_count": 43,
   "metadata": {},
   "outputs": [],
   "source": [
    "train_set['month_of_deduction']=train_set['deduction_created_date'].dt.month\n",
    "test_set['month_of_deduction']=test_set['deduction_created_date'].dt.month\n",
    "val_set['month_of_deduction']=val_set['deduction_created_date'].dt.month"
   ]
  },
  {
   "cell_type": "code",
   "execution_count": 44,
   "metadata": {},
   "outputs": [],
   "source": [
    "total=train_set.groupby('payer')['is_valid'].count()\n",
    "valid=train_set.groupby('payer')['is_valid'].sum()\n",
    "invalid=total-valid"
   ]
  },
  {
   "cell_type": "code",
   "execution_count": 45,
   "metadata": {},
   "outputs": [],
   "source": [
    "train_set['payer_invalid_ratio']=train_set['payer'].map(invalid/total)\n",
    "val_set['payer_invalid_ratio']=val_set['payer'].map(invalid/total)\n",
    "test_set['payer_invalid_ratio']=test_set['payer'].map(invalid/total)"
   ]
  },
  {
   "cell_type": "code",
   "execution_count": 46,
   "metadata": {},
   "outputs": [],
   "source": [
    "train_set['payer_invalid_ratio'].fillna(train_set['payer_invalid_ratio'].mean(),inplace=True)\n",
    "val_set['payer_invalid_ratio'].fillna(train_set['payer_invalid_ratio'].mean(),inplace=True)\n",
    "test_set['payer_invalid_ratio'].fillna(train_set['payer_invalid_ratio'].mean(),inplace=True)"
   ]
  },
  {
   "cell_type": "code",
   "execution_count": 47,
   "metadata": {},
   "outputs": [],
   "source": [
    "train_set['invalid_propensity']=train_set['fk_customer_map_id'].map((train_set.query('is_valid==0').groupby('fk_customer_map_id')['original_dispute_amount'].agg(['mean'])['mean'])/(train_set.groupby('fk_customer_map_id')['original_dispute_amount'].agg(['mean'])['mean']))\n",
    "val_set['invalid_propensity']=val_set['fk_customer_map_id'].map((train_set.query('is_valid==0').groupby('fk_customer_map_id')['original_dispute_amount'].agg(['mean'])['mean'])/(train_set.groupby('fk_customer_map_id')['original_dispute_amount'].agg(['mean'])['mean']))\n",
    "test_set['invalid_propensity']=test_set['fk_customer_map_id'].map((train_set.query('is_valid==0').groupby('fk_customer_map_id')['original_dispute_amount'].agg(['mean'])['mean'])/(train_set.groupby('fk_customer_map_id')['original_dispute_amount'].agg(['mean'])['mean']))\n",
    "train_set['invalid_propensity'].fillna(train_set['invalid_propensity'].mean(),inplace=True)\n",
    "val_set['invalid_propensity'].fillna(train_set['invalid_propensity'].mean(),inplace=True)\n",
    "test_set['invalid_propensity'].fillna(train_set['invalid_propensity'].mean(),inplace=True)"
   ]
  },
  {
   "cell_type": "markdown",
   "metadata": {},
   "source": [
    "### Minimum and Maximum amount per  Customer"
   ]
  },
  {
   "cell_type": "code",
   "execution_count": 48,
   "metadata": {},
   "outputs": [],
   "source": [
    "train_set['max_invalid_amount']=train_set['fk_customer_map_id'].map((train_set.query('is_valid==0').groupby('fk_customer_map_id')['original_dispute_amount'].agg(['max'])['max']))\n",
    "test_set['max_invalid_amount']=test_set['fk_customer_map_id'].map((train_set.query('is_valid==0').groupby('fk_customer_map_id')['original_dispute_amount'].agg(['max'])['max']))\n",
    "val_set['max_invalid_amount']=val_set['fk_customer_map_id'].map((train_set.query('is_valid==0').groupby('fk_customer_map_id')['original_dispute_amount'].agg(['max'])['max']))\n"
   ]
  },
  {
   "cell_type": "code",
   "execution_count": 49,
   "metadata": {},
   "outputs": [],
   "source": [
    "train_set['max_invalid_amount'].fillna(train_set['max_invalid_amount'].mean(),inplace=True)\n",
    "test_set['max_invalid_amount'].fillna(train_set['max_invalid_amount'].mean(),inplace=True)\n",
    "val_set['max_invalid_amount'].fillna(train_set['max_invalid_amount'].mean(),inplace=True)\n"
   ]
  },
  {
   "cell_type": "code",
   "execution_count": 50,
   "metadata": {},
   "outputs": [],
   "source": [
    "train_set['min_invalid_amount']=train_set['fk_customer_map_id'].map((train_set.query('is_valid==0').groupby('fk_customer_map_id')['original_dispute_amount'].agg(['min'])['min']))\n",
    "test_set['min_invalid_amount']=test_set['fk_customer_map_id'].map((train_set.query('is_valid==0').groupby('fk_customer_map_id')['original_dispute_amount'].agg(['min'])['min']))\n",
    "val_set['min_invalid_amount']=val_set['fk_customer_map_id'].map((train_set.query('is_valid==0').groupby('fk_customer_map_id')['original_dispute_amount'].agg(['min'])['min']))\n"
   ]
  },
  {
   "cell_type": "code",
   "execution_count": 51,
   "metadata": {},
   "outputs": [],
   "source": [
    "train_set['min_invalid_amount'].fillna(train_set['min_invalid_amount'].mean(),inplace=True)\n",
    "test_set['min_invalid_amount'].fillna(train_set['min_invalid_amount'].mean(),inplace=True)\n",
    "val_set['min_invalid_amount'].fillna(train_set['min_invalid_amount'].mean(),inplace=True)\n"
   ]
  },
  {
   "cell_type": "code",
   "execution_count": 52,
   "metadata": {},
   "outputs": [],
   "source": [
    "features=['original_dispute_amount','b_value','ref_num15_fk_customer_map_id_history','ar_reason_code_hist','fk_customer_map_id_hist','invalid_propensity','max_invalid_amount','min_invalid_amount']"
   ]
  },
  {
   "cell_type": "code",
   "execution_count": 53,
   "metadata": {},
   "outputs": [],
   "source": [
    "X_train=train_set[features]\n",
    "Y_train=train_set['is_valid']\n",
    "X_test=test_set[features]\n",
    "Y_test=test_set['is_valid']\n",
    "X_val=val_set[features]\n",
    "Y_val=val_set['is_valid']"
   ]
  },
  {
   "cell_type": "code",
   "execution_count": 54,
   "metadata": {},
   "outputs": [],
   "source": [
    "X_train=pd.concat([X_train,X_val])\n",
    "Y_train=pd.concat([Y_train,Y_val])"
   ]
  },
  {
   "cell_type": "code",
   "execution_count": 55,
   "metadata": {},
   "outputs": [
    {
     "data": {
      "text/plain": [
       "original_dispute_amount                 0\n",
       "b_value                                 0\n",
       "ref_num15_fk_customer_map_id_history    0\n",
       "ar_reason_code_hist                     0\n",
       "fk_customer_map_id_hist                 0\n",
       "invalid_propensity                      0\n",
       "max_invalid_amount                      0\n",
       "min_invalid_amount                      0\n",
       "dtype: int64"
      ]
     },
     "execution_count": 55,
     "metadata": {},
     "output_type": "execute_result"
    }
   ],
   "source": [
    "X_train.isnull().sum()"
   ]
  },
  {
   "cell_type": "markdown",
   "metadata": {},
   "source": [
    "## Random Forest"
   ]
  },
  {
   "cell_type": "code",
   "execution_count": 56,
   "metadata": {},
   "outputs": [
    {
     "data": {
      "text/plain": [
       "RandomForestClassifier(bootstrap=True, class_weight={0: 3, 1: 1},\n",
       "            criterion='gini', max_depth=7, max_features=0.7,\n",
       "            max_leaf_nodes=None, min_impurity_decrease=0.0,\n",
       "            min_impurity_split=None, min_samples_leaf=1,\n",
       "            min_samples_split=700, min_weight_fraction_leaf=0.0,\n",
       "            n_estimators=200, n_jobs=None, oob_score=False, random_state=8,\n",
       "            verbose=0, warm_start=False)"
      ]
     },
     "execution_count": 56,
     "metadata": {},
     "output_type": "execute_result"
    }
   ],
   "source": [
    "from sklearn.ensemble import RandomForestClassifier\n",
    "model = RandomForestClassifier(\n",
    "            n_estimators=200,\n",
    "            class_weight={0:3,1:1},\n",
    "            max_features=0.7,\n",
    "            max_depth=7,\n",
    "            min_samples_split=700,\n",
    "            random_state=8\n",
    "        )\n",
    "model.fit(X_train,Y_train)"
   ]
  },
  {
   "cell_type": "code",
   "execution_count": 57,
   "metadata": {},
   "outputs": [
    {
     "name": "stdout",
     "output_type": "stream",
     "text": [
      "Confusion Matrix:  [[  128   203]\n",
      " [  731 20993]]\n",
      "Accuracy using random forest:  95.76513262298798\n",
      "Recall Score using random forest:  0.9663505800036826\n",
      "classification report\n",
      "              precision    recall  f1-score   support\n",
      "\n",
      "           0       0.15      0.39      0.22       331\n",
      "           1       0.99      0.97      0.98     21724\n",
      "\n",
      "   micro avg       0.96      0.96      0.96     22055\n",
      "   macro avg       0.57      0.68      0.60     22055\n",
      "weighted avg       0.98      0.96      0.97     22055\n",
      "\n"
     ]
    }
   ],
   "source": [
    "y_pred1_rf=model.predict(X_test)\n",
    "print(\"Confusion Matrix: \",confusion_matrix(Y_test, y_pred1_rf)) \n",
    "print(\"Accuracy using random forest: \",accuracy_score(Y_test,y_pred1_rf)*100)\n",
    "print(\"Recall Score using random forest: \", recall_score(Y_test, y_pred1_rf)) \n",
    "print(\"classification report\")\n",
    "print(classification_report(Y_test, y_pred1_rf)) "
   ]
  },
  {
   "cell_type": "code",
   "execution_count": 361,
   "metadata": {},
   "outputs": [],
   "source": [
    "l=model.predict_proba(X_test[features])\n",
    "thres=0.9\n",
    "y_pred1_rf=l[:,1]>thres"
   ]
  },
  {
   "cell_type": "code",
   "execution_count": 362,
   "metadata": {},
   "outputs": [],
   "source": [
    "def proba_(pred_pro1,x_test1,y_test1):  \n",
    "    y_t_rf=[None]*pred_pro1.shape[0]\n",
    "    for i in range(0,pred_pro1.shape[0]):\n",
    "        if(pred_pro1[i][1]>0.9 and x_test1.iloc[i]['original_dispute_amount']<10000):\n",
    "                y_t_rf[i]=1\n",
    "        else:\n",
    "               y_t_rf[i]=0\n",
    "    return y_t_rf"
   ]
  },
  {
   "cell_type": "code",
   "execution_count": 363,
   "metadata": {},
   "outputs": [],
   "source": [
    "thresh_proba=proba_(l,X_test,Y_test)"
   ]
  },
  {
   "cell_type": "code",
   "execution_count": 364,
   "metadata": {},
   "outputs": [
    {
     "name": "stdout",
     "output_type": "stream",
     "text": [
      "Confusion Matrix:  [[  306    25]\n",
      " [ 6122 15603]]\n",
      "Accuracy: 72.13003264417846\n",
      "Recall Score:  0.718204833141542\n",
      "classification report\n",
      "              precision    recall  f1-score   support\n",
      "\n",
      "           0       0.05      0.92      0.09       331\n",
      "           1       1.00      0.72      0.84     21725\n",
      "\n",
      "   micro avg       0.72      0.72      0.72     22056\n",
      "   macro avg       0.52      0.82      0.46     22056\n",
      "weighted avg       0.98      0.72      0.82     22056\n",
      "\n"
     ]
    }
   ],
   "source": [
    "print(\"Confusion Matrix: \",confusion_matrix(Y_test, thresh_proba)) \n",
    "print (\"Accuracy:\",accuracy_score(Y_test,thresh_proba)*100) \n",
    "print(\"Recall Score: \", recall_score(Y_test, thresh_proba)) \n",
    "print(\"classification report\")\n",
    "print(classification_report(Y_test, thresh_proba)) "
   ]
  },
  {
   "cell_type": "code",
   "execution_count": 365,
   "metadata": {},
   "outputs": [
    {
     "data": {
      "text/plain": [
       "[('max_invalid_amount', 0.00842538404051156),\n",
       " ('invalid_propensity', 0.010720330177079051),\n",
       " ('b_value', 0.020910899796701507),\n",
       " ('min_invalid_amount', 0.02780699780645524),\n",
       " ('fk_customer_map_id_hist', 0.11151185241156293),\n",
       " ('ar_reason_code_hist', 0.1385579392295352),\n",
       " ('original_dispute_amount', 0.18137054711993003),\n",
       " ('ref_num15_fk_customer_map_id_history', 0.5006960494182242)]"
      ]
     },
     "execution_count": 365,
     "metadata": {},
     "output_type": "execute_result"
    }
   ],
   "source": [
    "a=zip(features,model.feature_importances_)\n",
    "a=list(a)\n",
    "srt=sorted(a, key = lambda x: x[1])\n",
    "srt"
   ]
  },
  {
   "cell_type": "markdown",
   "metadata": {},
   "source": [
    "## LGBM"
   ]
  },
  {
   "cell_type": "code",
   "execution_count": 339,
   "metadata": {},
   "outputs": [],
   "source": [
    "from lightgbm import LGBMClassifier\n",
    "lgbm=LGBMClassifier(boosting_type='gbdt',max_depth=5,n_estimators=200,learning_rate=0.07,class_weight={0:3,1:1})"
   ]
  },
  {
   "cell_type": "code",
   "execution_count": 340,
   "metadata": {},
   "outputs": [
    {
     "data": {
      "text/plain": [
       "LGBMClassifier(boosting_type='gbdt', class_weight={0: 3, 1: 1},\n",
       "        colsample_bytree=1.0, importance_type='split', learning_rate=0.07,\n",
       "        max_depth=5, min_child_samples=20, min_child_weight=0.001,\n",
       "        min_split_gain=0.0, n_estimators=200, n_jobs=-1, num_leaves=31,\n",
       "        objective=None, random_state=None, reg_alpha=0.0, reg_lambda=0.0,\n",
       "        silent=True, subsample=1.0, subsample_for_bin=200000,\n",
       "        subsample_freq=0)"
      ]
     },
     "execution_count": 340,
     "metadata": {},
     "output_type": "execute_result"
    }
   ],
   "source": [
    "lgbm.fit(X_train,Y_train)"
   ]
  },
  {
   "cell_type": "code",
   "execution_count": 341,
   "metadata": {},
   "outputs": [
    {
     "name": "stdout",
     "output_type": "stream",
     "text": [
      "Confusion Matrix:  [[  135   196]\n",
      " [  510 21215]]\n",
      "Accuracy using random forest:  96.79905694595575\n",
      "Recall Score using random forest:  0.9765247410817031\n",
      "classification report\n",
      "              precision    recall  f1-score   support\n",
      "\n",
      "           0       0.21      0.41      0.28       331\n",
      "           1       0.99      0.98      0.98     21725\n",
      "\n",
      "   micro avg       0.97      0.97      0.97     22056\n",
      "   macro avg       0.60      0.69      0.63     22056\n",
      "weighted avg       0.98      0.97      0.97     22056\n",
      "\n"
     ]
    }
   ],
   "source": [
    "y_pred1_lgbm=lgbm.predict(X_test[features])\n",
    "print(\"Confusion Matrix: \",confusion_matrix(Y_test, y_pred1_lgbm)) \n",
    "print(\"Accuracy using random forest: \",accuracy_score(Y_test,y_pred1_lgbm)*100)\n",
    "print(\"Recall Score using random forest: \", recall_score(Y_test, y_pred1_lgbm)) \n",
    "print(\"classification report\")\n",
    "print(classification_report(Y_test, y_pred1_lgbm)) "
   ]
  },
  {
   "cell_type": "code",
   "execution_count": 342,
   "metadata": {},
   "outputs": [],
   "source": [
    "def proba_(pred_pro1,x_test1,y_test1):  \n",
    "    y_t_lgbm=[None]*pred_pro1.shape[0]\n",
    "    for i in range(0,pred_pro1.shape[0]):\n",
    "        if(pred_pro1[i][1]>=0.9 and x_test1.iloc[i]['original_dispute_amount']<=10000):\n",
    "                y_t_lgbm[i]=1\n",
    "        else:\n",
    "               y_t_lgbm[i]=0\n",
    "    return y_t_lgbm"
   ]
  },
  {
   "cell_type": "code",
   "execution_count": 343,
   "metadata": {},
   "outputs": [],
   "source": [
    "l=lgbm.predict_proba(X_test[features])"
   ]
  },
  {
   "cell_type": "code",
   "execution_count": 344,
   "metadata": {},
   "outputs": [],
   "source": [
    "thresh_proba=proba_(l,X_test,Y_test)"
   ]
  },
  {
   "cell_type": "code",
   "execution_count": 345,
   "metadata": {},
   "outputs": [
    {
     "name": "stdout",
     "output_type": "stream",
     "text": [
      "Confusion Matrix:  [[  285    46]\n",
      " [ 5534 16191]]\n",
      "Accuracy: 74.70076169749727\n",
      "Recall Score:  0.7452704257767548\n",
      "classification report\n",
      "              precision    recall  f1-score   support\n",
      "\n",
      "           0       0.05      0.86      0.09       331\n",
      "           1       1.00      0.75      0.85     21725\n",
      "\n",
      "   micro avg       0.75      0.75      0.75     22056\n",
      "   macro avg       0.52      0.80      0.47     22056\n",
      "weighted avg       0.98      0.75      0.84     22056\n",
      "\n"
     ]
    }
   ],
   "source": [
    "print(\"Confusion Matrix: \",confusion_matrix(Y_test, thresh_proba)) \n",
    "print (\"Accuracy:\",accuracy_score(Y_test,thresh_proba)*100) \n",
    "print(\"Recall Score: \", recall_score(Y_test, thresh_proba)) \n",
    "print(\"classification report\")\n",
    "print(classification_report(Y_test, thresh_proba)) "
   ]
  },
  {
   "cell_type": "code",
   "execution_count": 346,
   "metadata": {},
   "outputs": [
    {
     "data": {
      "text/plain": [
       "[('fk_customer_map_id_hist', 363),\n",
       " ('max_invalid_amount', 433),\n",
       " ('invalid_propensity', 454),\n",
       " ('min_invalid_amount', 564),\n",
       " ('b_value', 614),\n",
       " ('ar_reason_code_hist', 812),\n",
       " ('ref_num15_fk_customer_map_id_history', 972),\n",
       " ('original_dispute_amount', 1333)]"
      ]
     },
     "execution_count": 346,
     "metadata": {},
     "output_type": "execute_result"
    }
   ],
   "source": [
    "a=zip(features,lgbm.feature_importances_)\n",
    "a=list(a)\n",
    "srt=sorted(a, key = lambda x: x[1])\n",
    "srt"
   ]
  },
  {
   "cell_type": "markdown",
   "metadata": {},
   "source": [
    "## XGBoost"
   ]
  },
  {
   "cell_type": "code",
   "execution_count": 352,
   "metadata": {},
   "outputs": [],
   "source": [
    "from xgboost.sklearn import XGBClassifier"
   ]
  },
  {
   "cell_type": "code",
   "execution_count": 353,
   "metadata": {},
   "outputs": [
    {
     "data": {
      "text/plain": [
       "XGBClassifier(base_score=0.5, booster='gbtree', colsample_bylevel=1,\n",
       "       colsample_bynode=1, colsample_bytree=1, gamma=0, learning_rate=0.05,\n",
       "       max_delta_step=0, max_depth=4, min_child_weight=1, missing=None,\n",
       "       n_estimators=200, n_jobs=1, nthread=5, objective='binary:logistic',\n",
       "       random_state=0, reg_alpha=0, reg_lambda=1, scale_pos_weight=0.19,\n",
       "       seed=27, silent=None, subsample=1, verbosity=1)"
      ]
     },
     "execution_count": 353,
     "metadata": {},
     "output_type": "execute_result"
    }
   ],
   "source": [
    "xgb=XGBClassifier(learning_rate =0.05,n_estimators=200,max_depth=4,gamma=0,nthread=5,scale_pos_weight=0.19,seed=27)\n",
    "xgb.fit(X_train,Y_train)"
   ]
  },
  {
   "cell_type": "code",
   "execution_count": 354,
   "metadata": {
    "scrolled": true
   },
   "outputs": [
    {
     "name": "stdout",
     "output_type": "stream",
     "text": [
      "Confusion Matrix:  [[  185   146]\n",
      " [ 1368 20357]]\n",
      "Accuracy using random forest:  93.13565469713456\n",
      "Recall Score using random forest:  0.9370310701956271\n",
      "classification report\n",
      "              precision    recall  f1-score   support\n",
      "\n",
      "           0       0.12      0.56      0.20       331\n",
      "           1       0.99      0.94      0.96     21725\n",
      "\n",
      "   micro avg       0.93      0.93      0.93     22056\n",
      "   macro avg       0.56      0.75      0.58     22056\n",
      "weighted avg       0.98      0.93      0.95     22056\n",
      "\n"
     ]
    }
   ],
   "source": [
    "y_pred1_xgb=xgb.predict(X_test[features])\n",
    "print(\"Confusion Matrix: \",confusion_matrix(Y_test, y_pred1_xgb)) \n",
    "print(\"Accuracy using random forest: \",accuracy_score(Y_test,y_pred1_xgb)*100)\n",
    "print(\"Recall Score using random forest: \", recall_score(Y_test, y_pred1_xgb)) \n",
    "print(\"classification report\")\n",
    "print(classification_report(Y_test, y_pred1_xgb)) "
   ]
  },
  {
   "cell_type": "code",
   "execution_count": 355,
   "metadata": {},
   "outputs": [],
   "source": [
    "def proba_(pred_pro1,x_test1,y_test1):  \n",
    "    y_t_lgbm=[None]*pred_pro1.shape[0]\n",
    "    for i in range(0,pred_pro1.shape[0]):\n",
    "        if(pred_pro1[i][1]>=0.9 and x_test1.iloc[i]['original_dispute_amount']<=10000):\n",
    "                y_t_lgbm[i]=1\n",
    "        else:\n",
    "               y_t_lgbm[i]=0\n",
    "    return y_t_lgbm"
   ]
  },
  {
   "cell_type": "code",
   "execution_count": 356,
   "metadata": {},
   "outputs": [],
   "source": [
    "l=xgb.predict_proba(X_test[features])"
   ]
  },
  {
   "cell_type": "code",
   "execution_count": 357,
   "metadata": {},
   "outputs": [],
   "source": [
    "thresh_proba=proba_(l,X_test,Y_test)"
   ]
  },
  {
   "cell_type": "code",
   "execution_count": 358,
   "metadata": {},
   "outputs": [
    {
     "name": "stdout",
     "output_type": "stream",
     "text": [
      "Confusion Matrix:  [[  305    26]\n",
      " [ 6563 15162]]\n",
      "Accuracy: 70.12604280014509\n",
      "Recall Score:  0.6979056386651323\n",
      "classification report\n",
      "              precision    recall  f1-score   support\n",
      "\n",
      "           0       0.04      0.92      0.08       331\n",
      "           1       1.00      0.70      0.82     21725\n",
      "\n",
      "   micro avg       0.70      0.70      0.70     22056\n",
      "   macro avg       0.52      0.81      0.45     22056\n",
      "weighted avg       0.98      0.70      0.81     22056\n",
      "\n"
     ]
    }
   ],
   "source": [
    "print(\"Confusion Matrix: \",confusion_matrix(Y_test, thresh_proba)) \n",
    "print (\"Accuracy:\",accuracy_score(Y_test,thresh_proba)*100) \n",
    "print(\"Recall Score: \", recall_score(Y_test, thresh_proba)) \n",
    "print(\"classification report\")\n",
    "print(classification_report(Y_test, thresh_proba)) "
   ]
  },
  {
   "cell_type": "markdown",
   "metadata": {},
   "source": [
    "## Decision Tree"
   ]
  },
  {
   "cell_type": "code",
   "execution_count": 347,
   "metadata": {},
   "outputs": [
    {
     "data": {
      "text/plain": [
       "DecisionTreeClassifier(class_weight={0: 3, 1: 1}, criterion='entropy',\n",
       "            max_depth=5, max_features=0.7, max_leaf_nodes=None,\n",
       "            min_impurity_decrease=0.0, min_impurity_split=None,\n",
       "            min_samples_leaf=1, min_samples_split=400,\n",
       "            min_weight_fraction_leaf=0.0, presort=False, random_state=8,\n",
       "            splitter='best')"
      ]
     },
     "execution_count": 347,
     "metadata": {},
     "output_type": "execute_result"
    }
   ],
   "source": [
    "from sklearn.tree import DecisionTreeClassifier\n",
    "dt=DecisionTreeClassifier(criterion='entropy',max_depth=5,class_weight={0:3,1:1}, random_state=8, max_features = 0.7,\n",
    "                         min_samples_split = 400)\n",
    "dt.fit(X_train,Y_train)"
   ]
  },
  {
   "cell_type": "code",
   "execution_count": 348,
   "metadata": {},
   "outputs": [
    {
     "name": "stdout",
     "output_type": "stream",
     "text": [
      "Confusion Matrix:  [[  188   143]\n",
      " [ 1568 20157]]\n",
      "Accuracy using random forest:  92.24247370330069\n",
      "Recall Score using random forest:  0.927825086306099\n",
      "classification report\n",
      "              precision    recall  f1-score   support\n",
      "\n",
      "           0       0.11      0.57      0.18       331\n",
      "           1       0.99      0.93      0.96     21725\n",
      "\n",
      "   micro avg       0.92      0.92      0.92     22056\n",
      "   macro avg       0.55      0.75      0.57     22056\n",
      "weighted avg       0.98      0.92      0.95     22056\n",
      "\n"
     ]
    }
   ],
   "source": [
    "y_pred1_dt=dt.predict(X_test[features])\n",
    "print(\"Confusion Matrix: \",confusion_matrix(Y_test, y_pred1_dt)) \n",
    "print(\"Accuracy using random forest: \",accuracy_score(Y_test,y_pred1_dt)*100)\n",
    "print(\"Recall Score using random forest: \", recall_score(Y_test, y_pred1_dt)) \n",
    "print(\"classification report\")\n",
    "print(classification_report(Y_test, y_pred1_dt)) "
   ]
  },
  {
   "cell_type": "code",
   "execution_count": 349,
   "metadata": {},
   "outputs": [],
   "source": [
    "l=dt.predict_proba(X_test[features])"
   ]
  },
  {
   "cell_type": "code",
   "execution_count": 350,
   "metadata": {},
   "outputs": [],
   "source": [
    "thresh_proba=proba_(l,X_test,Y_test)"
   ]
  },
  {
   "cell_type": "code",
   "execution_count": 351,
   "metadata": {},
   "outputs": [
    {
     "name": "stdout",
     "output_type": "stream",
     "text": [
      "Confusion Matrix:  [[  303    28]\n",
      " [ 6295 15430]]\n",
      "Accuracy: 71.33206383750453\n",
      "Recall Score:  0.7102416570771001\n",
      "classification report\n",
      "              precision    recall  f1-score   support\n",
      "\n",
      "           0       0.05      0.92      0.09       331\n",
      "           1       1.00      0.71      0.83     21725\n",
      "\n",
      "   micro avg       0.71      0.71      0.71     22056\n",
      "   macro avg       0.52      0.81      0.46     22056\n",
      "weighted avg       0.98      0.71      0.82     22056\n",
      "\n"
     ]
    }
   ],
   "source": [
    "print(\"Confusion Matrix: \",confusion_matrix(Y_test, thresh_proba)) \n",
    "print (\"Accuracy:\",accuracy_score(Y_test,thresh_proba)*100) \n",
    "print(\"Recall Score: \", recall_score(Y_test, thresh_proba)) \n",
    "print(\"classification report\")\n",
    "print(classification_report(Y_test, thresh_proba)) "
   ]
  },
  {
   "cell_type": "markdown",
   "metadata": {},
   "source": [
    "## VC"
   ]
  },
  {
   "cell_type": "code",
   "execution_count": 382,
   "metadata": {},
   "outputs": [
    {
     "data": {
      "text/plain": [
       "VotingClassifier(estimators=[('lr', LGBMClassifier(boosting_type='gbdt', class_weight={0: 3, 1: 1},\n",
       "        colsample_bytree=1.0, importance_type='split', learning_rate=0.07,\n",
       "        max_depth=5, min_child_samples=20, min_child_weight=0.001,\n",
       "        min_split_gain=0.0, n_estimators=200, n_jobs=-1, num_leaves=31,\n",
       "   ...pha=0, reg_lambda=1, scale_pos_weight=0.19,\n",
       "       seed=27, silent=None, subsample=1, verbosity=1))],\n",
       "         flatten_transform=True, n_jobs=None, voting='soft',\n",
       "         weights=[1, 2, 2, 1])"
      ]
     },
     "execution_count": 382,
     "metadata": {},
     "output_type": "execute_result"
    }
   ],
   "source": [
    "from sklearn.ensemble import VotingClassifier\n",
    "vc = VotingClassifier(estimators=[\n",
    "        ('lr', lgbm), ('rf', model), ('dt', dt), ('xgb', xgb)],\n",
    "       voting='soft', weights=[1,2,2,1],flatten_transform=True)\n",
    "vc.fit(X_train,Y_train)"
   ]
  },
  {
   "cell_type": "code",
   "execution_count": 383,
   "metadata": {},
   "outputs": [
    {
     "name": "stdout",
     "output_type": "stream",
     "text": [
      "Confusion Matrix:  [[  139   192]\n",
      " [  739 20986]]\n",
      "Accuracy using random forest:  95.77892636924193\n",
      "Recall Score using random forest:  0.9659838895281934\n",
      "classification report\n",
      "              precision    recall  f1-score   support\n",
      "\n",
      "           0       0.16      0.42      0.23       331\n",
      "           1       0.99      0.97      0.98     21725\n",
      "\n",
      "   micro avg       0.96      0.96      0.96     22056\n",
      "   macro avg       0.57      0.69      0.60     22056\n",
      "weighted avg       0.98      0.96      0.97     22056\n",
      "\n"
     ]
    }
   ],
   "source": [
    "y_pred1_vc=vc.predict(X_test[features])\n",
    "print(\"Confusion Matrix: \",confusion_matrix(Y_test, y_pred1_vc)) \n",
    "print(\"Accuracy using random forest: \",accuracy_score(Y_test,y_pred1_vc)*100)\n",
    "print(\"Recall Score using random forest: \", recall_score(Y_test, y_pred1_vc)) \n",
    "print(\"classification report\")\n",
    "print(classification_report(Y_test, y_pred1_vc)) "
   ]
  },
  {
   "cell_type": "code",
   "execution_count": 384,
   "metadata": {},
   "outputs": [],
   "source": [
    "l_vc=vc.predict_proba(X_test[features])\n",
    "thresh_proba=proba_(l_vc,X_test,Y_test)"
   ]
  },
  {
   "cell_type": "code",
   "execution_count": 385,
   "metadata": {},
   "outputs": [
    {
     "name": "stdout",
     "output_type": "stream",
     "text": [
      "Confusion Matrix:  [[  307    24]\n",
      " [ 6205 15520]]\n",
      "Accuracy: 71.7582517228872\n",
      "Recall Score:  0.7143843498273879\n",
      "classification report\n",
      "              precision    recall  f1-score   support\n",
      "\n",
      "           0       0.05      0.93      0.09       331\n",
      "           1       1.00      0.71      0.83     21725\n",
      "\n",
      "   micro avg       0.72      0.72      0.72     22056\n",
      "   macro avg       0.52      0.82      0.46     22056\n",
      "weighted avg       0.98      0.72      0.82     22056\n",
      "\n"
     ]
    }
   ],
   "source": [
    "print(\"Confusion Matrix: \",confusion_matrix(Y_test, thresh_proba)) \n",
    "print (\"Accuracy:\",accuracy_score(Y_test,thresh_proba)*100) \n",
    "print(\"Recall Score: \", recall_score(Y_test, thresh_proba)) \n",
    "print(\"classification report\")\n",
    "print(classification_report(Y_test, thresh_proba)) "
   ]
  },
  {
   "cell_type": "code",
   "execution_count": 376,
   "metadata": {},
   "outputs": [],
   "source": [
    "test_set['predictions']=thresh_proba"
   ]
  },
  {
   "cell_type": "code",
   "execution_count": 377,
   "metadata": {},
   "outputs": [
    {
     "data": {
      "text/plain": [
       "0.0001571131158982515"
      ]
     },
     "execution_count": 377,
     "metadata": {},
     "output_type": "execute_result"
    }
   ],
   "source": [
    "test_set[(test_set['is_valid']==0) & (test_set['predictions']==1)]['original_dispute_amount'].sum()/test_set['original_dispute_amount'].sum()  "
   ]
  },
  {
   "cell_type": "code",
   "execution_count": 378,
   "metadata": {},
   "outputs": [
    {
     "data": {
      "text/plain": [
       "0.0011334784185709104"
      ]
     },
     "execution_count": 378,
     "metadata": {},
     "output_type": "execute_result"
    }
   ],
   "source": [
    "test_set[(test_set['is_valid']==0) & (test_set['predictions']==1)]['original_dispute_amount'].count()/test_set['original_dispute_amount'].count()  "
   ]
  },
  {
   "cell_type": "code",
   "execution_count": 379,
   "metadata": {},
   "outputs": [
    {
     "data": {
      "text/plain": [
       "0.7054769677185346"
      ]
     },
     "execution_count": 379,
     "metadata": {},
     "output_type": "execute_result"
    }
   ],
   "source": [
    "test_set[(test_set['is_valid']==1) & (test_set['predictions']==1)]['original_dispute_amount'].count()/test_set['original_dispute_amount'].count()"
   ]
  },
  {
   "cell_type": "code",
   "execution_count": 380,
   "metadata": {},
   "outputs": [
    {
     "data": {
      "text/plain": [
       "0.102931052283051"
      ]
     },
     "execution_count": 380,
     "metadata": {},
     "output_type": "execute_result"
    }
   ],
   "source": [
    "test_set[(test_set['is_valid']==1) & (test_set['predictions']==1)]['original_dispute_amount'].sum()/test_set['original_dispute_amount'].sum()"
   ]
  },
  {
   "cell_type": "code",
   "execution_count": 381,
   "metadata": {},
   "outputs": [
    {
     "data": {
      "text/plain": [
       "0.2795157780195865"
      ]
     },
     "execution_count": 381,
     "metadata": {},
     "output_type": "execute_result"
    }
   ],
   "source": [
    "test_set[(test_set['is_valid']==1) & (test_set['predictions']==0)]['original_dispute_amount'].count()/test_set['original_dispute_amount'].count()"
   ]
  },
  {
   "cell_type": "code",
   "execution_count": null,
   "metadata": {},
   "outputs": [],
   "source": []
  }
 ],
 "metadata": {
  "kernelspec": {
   "display_name": "Python 3",
   "language": "python",
   "name": "python3"
  },
  "language_info": {
   "codemirror_mode": {
    "name": "ipython",
    "version": 3
   },
   "file_extension": ".py",
   "mimetype": "text/x-python",
   "name": "python",
   "nbconvert_exporter": "python",
   "pygments_lexer": "ipython3",
   "version": "3.7.4"
  }
 },
 "nbformat": 4,
 "nbformat_minor": 2
}
